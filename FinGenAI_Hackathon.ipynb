{
  "cells": [
    {
      "cell_type": "markdown",
      "metadata": {
        "id": "oz46zfB9efSf"
      },
      "source": [
        "# Check GPU"
      ]
    },
    {
      "cell_type": "code",
      "execution_count": 1,
      "metadata": {
        "colab": {
          "base_uri": "https://localhost:8080/"
        },
        "id": "5p5qN1Fl6zdL",
        "outputId": "92b4fd28-76cd-43a0-c75e-6f80fcaba3ba"
      },
      "outputs": [
        {
          "output_type": "stream",
          "name": "stdout",
          "text": [
            "Fri Feb 16 07:55:05 2024       \n",
            "+---------------------------------------------------------------------------------------+\n",
            "| NVIDIA-SMI 535.104.05             Driver Version: 535.104.05   CUDA Version: 12.2     |\n",
            "|-----------------------------------------+----------------------+----------------------+\n",
            "| GPU  Name                 Persistence-M | Bus-Id        Disp.A | Volatile Uncorr. ECC |\n",
            "| Fan  Temp   Perf          Pwr:Usage/Cap |         Memory-Usage | GPU-Util  Compute M. |\n",
            "|                                         |                      |               MIG M. |\n",
            "|=========================================+======================+======================|\n",
            "|   0  Tesla T4                       Off | 00000000:00:04.0 Off |                    0 |\n",
            "| N/A   49C    P8              10W /  70W |      0MiB / 15360MiB |      0%      Default |\n",
            "|                                         |                      |                  N/A |\n",
            "+-----------------------------------------+----------------------+----------------------+\n",
            "                                                                                         \n",
            "+---------------------------------------------------------------------------------------+\n",
            "| Processes:                                                                            |\n",
            "|  GPU   GI   CI        PID   Type   Process name                            GPU Memory |\n",
            "|        ID   ID                                                             Usage      |\n",
            "|=======================================================================================|\n",
            "|  No running processes found                                                           |\n",
            "+---------------------------------------------------------------------------------------+\n"
          ]
        }
      ],
      "source": [
        "!nvidia-smi"
      ]
    },
    {
      "cell_type": "markdown",
      "metadata": {
        "id": "Z2yICeIpd4Md"
      },
      "source": [
        "# Installing the Repo and the Dependencies"
      ]
    },
    {
      "cell_type": "code",
      "execution_count": 7,
      "metadata": {
        "colab": {
          "base_uri": "https://localhost:8080/",
          "height": 1000
        },
        "id": "-zHfNwW56-_w",
        "outputId": "c7939f28-0f5b-4112-ba1d-460ce90acc20"
      },
      "outputs": [
        {
          "output_type": "stream",
          "name": "stdout",
          "text": [
            "Cloning into 'privateGPT'...\n",
            "remote: Enumerating objects: 358, done.\u001b[K\n",
            "remote: Counting objects: 100% (68/68), done.\u001b[K\n",
            "remote: Compressing objects: 100% (7/7), done.\u001b[K\n",
            "remote: Total 358 (delta 63), reused 61 (delta 61), pack-reused 290\u001b[K\n",
            "Receiving objects: 100% (358/358), 207.20 KiB | 9.42 MiB/s, done.\n",
            "Resolving deltas: 100% (188/188), done.\n",
            "Requirement already satisfied: langchain==0.0.228 in /usr/local/lib/python3.10/dist-packages (from -r /content/privateGPT/requirements.txt (line 1)) (0.0.228)\n",
            "Requirement already satisfied: gpt4all==1.0.3 in /usr/local/lib/python3.10/dist-packages (from -r /content/privateGPT/requirements.txt (line 2)) (1.0.3)\n",
            "Requirement already satisfied: chromadb==0.3.26 in /usr/local/lib/python3.10/dist-packages (from -r /content/privateGPT/requirements.txt (line 3)) (0.3.26)\n",
            "Collecting llama-cpp-python==0.1.68 (from -r /content/privateGPT/requirements.txt (line 4))\n",
            "  Using cached llama_cpp_python-0.1.68-cp310-cp310-linux_x86_64.whl\n",
            "Requirement already satisfied: urllib3==2.0.3 in /usr/local/lib/python3.10/dist-packages (from -r /content/privateGPT/requirements.txt (line 5)) (2.0.3)\n",
            "Requirement already satisfied: PyMuPDF==1.22.5 in /usr/local/lib/python3.10/dist-packages (from -r /content/privateGPT/requirements.txt (line 6)) (1.22.5)\n",
            "Requirement already satisfied: python-dotenv==1.0.0 in /usr/local/lib/python3.10/dist-packages (from -r /content/privateGPT/requirements.txt (line 7)) (1.0.0)\n",
            "Requirement already satisfied: unstructured==0.8.0 in /usr/local/lib/python3.10/dist-packages (from -r /content/privateGPT/requirements.txt (line 8)) (0.8.0)\n",
            "Requirement already satisfied: extract-msg==0.41.5 in /usr/local/lib/python3.10/dist-packages (from -r /content/privateGPT/requirements.txt (line 9)) (0.41.5)\n",
            "Requirement already satisfied: tabulate==0.9.0 in /usr/local/lib/python3.10/dist-packages (from -r /content/privateGPT/requirements.txt (line 10)) (0.9.0)\n",
            "Requirement already satisfied: pandoc==2.3 in /usr/local/lib/python3.10/dist-packages (from -r /content/privateGPT/requirements.txt (line 11)) (2.3)\n",
            "Requirement already satisfied: pypandoc==1.11 in /usr/local/lib/python3.10/dist-packages (from -r /content/privateGPT/requirements.txt (line 12)) (1.11)\n",
            "Requirement already satisfied: tqdm==4.65.0 in /usr/local/lib/python3.10/dist-packages (from -r /content/privateGPT/requirements.txt (line 13)) (4.65.0)\n",
            "Requirement already satisfied: PyYAML>=5.4.1 in /usr/local/lib/python3.10/dist-packages (from langchain==0.0.228->-r /content/privateGPT/requirements.txt (line 1)) (6.0.1)\n",
            "Requirement already satisfied: SQLAlchemy<3,>=1.4 in /usr/local/lib/python3.10/dist-packages (from langchain==0.0.228->-r /content/privateGPT/requirements.txt (line 1)) (2.0.27)\n",
            "Requirement already satisfied: aiohttp<4.0.0,>=3.8.3 in /usr/local/lib/python3.10/dist-packages (from langchain==0.0.228->-r /content/privateGPT/requirements.txt (line 1)) (3.9.3)\n",
            "Requirement already satisfied: async-timeout<5.0.0,>=4.0.0 in /usr/local/lib/python3.10/dist-packages (from langchain==0.0.228->-r /content/privateGPT/requirements.txt (line 1)) (4.0.3)\n",
            "Requirement already satisfied: dataclasses-json<0.6.0,>=0.5.7 in /usr/local/lib/python3.10/dist-packages (from langchain==0.0.228->-r /content/privateGPT/requirements.txt (line 1)) (0.5.14)\n",
            "Requirement already satisfied: langchainplus-sdk<0.0.21,>=0.0.20 in /usr/local/lib/python3.10/dist-packages (from langchain==0.0.228->-r /content/privateGPT/requirements.txt (line 1)) (0.0.20)\n",
            "Requirement already satisfied: numexpr<3.0.0,>=2.8.4 in /usr/local/lib/python3.10/dist-packages (from langchain==0.0.228->-r /content/privateGPT/requirements.txt (line 1)) (2.9.0)\n",
            "Requirement already satisfied: numpy<2,>=1 in /usr/local/lib/python3.10/dist-packages (from langchain==0.0.228->-r /content/privateGPT/requirements.txt (line 1)) (1.26.4)\n",
            "Requirement already satisfied: openapi-schema-pydantic<2.0,>=1.2 in /usr/local/lib/python3.10/dist-packages (from langchain==0.0.228->-r /content/privateGPT/requirements.txt (line 1)) (1.2.4)\n",
            "Requirement already satisfied: pydantic<2,>=1 in /usr/local/lib/python3.10/dist-packages (from langchain==0.0.228->-r /content/privateGPT/requirements.txt (line 1)) (1.10.14)\n",
            "Requirement already satisfied: requests<3,>=2 in /usr/local/lib/python3.10/dist-packages (from langchain==0.0.228->-r /content/privateGPT/requirements.txt (line 1)) (2.31.0)\n",
            "Requirement already satisfied: tenacity<9.0.0,>=8.1.0 in /usr/local/lib/python3.10/dist-packages (from langchain==0.0.228->-r /content/privateGPT/requirements.txt (line 1)) (8.2.3)\n",
            "Requirement already satisfied: pandas>=1.3 in /usr/local/lib/python3.10/dist-packages (from chromadb==0.3.26->-r /content/privateGPT/requirements.txt (line 3)) (1.5.3)\n",
            "Requirement already satisfied: hnswlib>=0.7 in /usr/local/lib/python3.10/dist-packages (from chromadb==0.3.26->-r /content/privateGPT/requirements.txt (line 3)) (0.8.0)\n",
            "Requirement already satisfied: clickhouse-connect>=0.5.7 in /usr/local/lib/python3.10/dist-packages (from chromadb==0.3.26->-r /content/privateGPT/requirements.txt (line 3)) (0.7.0)\n",
            "Requirement already satisfied: duckdb>=0.7.1 in /usr/local/lib/python3.10/dist-packages (from chromadb==0.3.26->-r /content/privateGPT/requirements.txt (line 3)) (0.9.2)\n",
            "Requirement already satisfied: fastapi>=0.85.1 in /usr/local/lib/python3.10/dist-packages (from chromadb==0.3.26->-r /content/privateGPT/requirements.txt (line 3)) (0.109.2)\n",
            "Requirement already satisfied: uvicorn[standard]>=0.18.3 in /usr/local/lib/python3.10/dist-packages (from chromadb==0.3.26->-r /content/privateGPT/requirements.txt (line 3)) (0.27.1)\n",
            "Requirement already satisfied: posthog>=2.4.0 in /usr/local/lib/python3.10/dist-packages (from chromadb==0.3.26->-r /content/privateGPT/requirements.txt (line 3)) (3.4.1)\n",
            "Requirement already satisfied: typing-extensions>=4.5.0 in /usr/local/lib/python3.10/dist-packages (from chromadb==0.3.26->-r /content/privateGPT/requirements.txt (line 3)) (4.9.0)\n",
            "Requirement already satisfied: pulsar-client>=3.1.0 in /usr/local/lib/python3.10/dist-packages (from chromadb==0.3.26->-r /content/privateGPT/requirements.txt (line 3)) (3.4.0)\n",
            "Requirement already satisfied: onnxruntime>=1.14.1 in /usr/local/lib/python3.10/dist-packages (from chromadb==0.3.26->-r /content/privateGPT/requirements.txt (line 3)) (1.17.0)\n",
            "Requirement already satisfied: tokenizers>=0.13.2 in /usr/local/lib/python3.10/dist-packages (from chromadb==0.3.26->-r /content/privateGPT/requirements.txt (line 3)) (0.15.2)\n",
            "Requirement already satisfied: overrides>=7.3.1 in /usr/local/lib/python3.10/dist-packages (from chromadb==0.3.26->-r /content/privateGPT/requirements.txt (line 3)) (7.7.0)\n",
            "Requirement already satisfied: diskcache>=5.6.1 in /usr/local/lib/python3.10/dist-packages (from llama-cpp-python==0.1.68->-r /content/privateGPT/requirements.txt (line 4)) (5.6.3)\n",
            "Requirement already satisfied: argilla in /usr/local/lib/python3.10/dist-packages (from unstructured==0.8.0->-r /content/privateGPT/requirements.txt (line 8)) (1.24.0)\n",
            "Requirement already satisfied: chardet in /usr/local/lib/python3.10/dist-packages (from unstructured==0.8.0->-r /content/privateGPT/requirements.txt (line 8)) (5.2.0)\n",
            "Requirement already satisfied: filetype in /usr/local/lib/python3.10/dist-packages (from unstructured==0.8.0->-r /content/privateGPT/requirements.txt (line 8)) (1.2.0)\n",
            "Requirement already satisfied: lxml in /usr/local/lib/python3.10/dist-packages (from unstructured==0.8.0->-r /content/privateGPT/requirements.txt (line 8)) (4.9.4)\n",
            "Requirement already satisfied: msg-parser in /usr/local/lib/python3.10/dist-packages (from unstructured==0.8.0->-r /content/privateGPT/requirements.txt (line 8)) (1.2.0)\n",
            "Requirement already satisfied: nltk in /usr/local/lib/python3.10/dist-packages (from unstructured==0.8.0->-r /content/privateGPT/requirements.txt (line 8)) (3.8.1)\n",
            "Requirement already satisfied: openpyxl in /usr/local/lib/python3.10/dist-packages (from unstructured==0.8.0->-r /content/privateGPT/requirements.txt (line 8)) (3.1.2)\n",
            "Requirement already satisfied: pdf2image in /usr/local/lib/python3.10/dist-packages (from unstructured==0.8.0->-r /content/privateGPT/requirements.txt (line 8)) (1.17.0)\n",
            "Requirement already satisfied: pdfminer.six in /usr/local/lib/python3.10/dist-packages (from unstructured==0.8.0->-r /content/privateGPT/requirements.txt (line 8)) (20231228)\n",
            "Requirement already satisfied: pillow in /usr/local/lib/python3.10/dist-packages (from unstructured==0.8.0->-r /content/privateGPT/requirements.txt (line 8)) (9.4.0)\n",
            "Requirement already satisfied: python-docx in /usr/local/lib/python3.10/dist-packages (from unstructured==0.8.0->-r /content/privateGPT/requirements.txt (line 8)) (1.1.0)\n",
            "Requirement already satisfied: python-pptx in /usr/local/lib/python3.10/dist-packages (from unstructured==0.8.0->-r /content/privateGPT/requirements.txt (line 8)) (0.6.23)\n",
            "Requirement already satisfied: python-magic in /usr/local/lib/python3.10/dist-packages (from unstructured==0.8.0->-r /content/privateGPT/requirements.txt (line 8)) (0.4.27)\n",
            "Requirement already satisfied: markdown in /usr/local/lib/python3.10/dist-packages (from unstructured==0.8.0->-r /content/privateGPT/requirements.txt (line 8)) (3.5.2)\n",
            "Requirement already satisfied: xlrd in /usr/local/lib/python3.10/dist-packages (from unstructured==0.8.0->-r /content/privateGPT/requirements.txt (line 8)) (2.0.1)\n",
            "Requirement already satisfied: imapclient<3,>=2.3.0 in /usr/local/lib/python3.10/dist-packages (from extract-msg==0.41.5->-r /content/privateGPT/requirements.txt (line 9)) (2.3.1)\n",
            "Requirement already satisfied: olefile==0.46 in /usr/local/lib/python3.10/dist-packages (from extract-msg==0.41.5->-r /content/privateGPT/requirements.txt (line 9)) (0.46)\n",
            "Requirement already satisfied: tzlocal<6,>=4.2 in /usr/local/lib/python3.10/dist-packages (from extract-msg==0.41.5->-r /content/privateGPT/requirements.txt (line 9)) (5.2)\n",
            "Requirement already satisfied: compressed-rtf<2,>=1.0.6 in /usr/local/lib/python3.10/dist-packages (from extract-msg==0.41.5->-r /content/privateGPT/requirements.txt (line 9)) (1.0.6)\n",
            "Requirement already satisfied: ebcdic<2,>=1.1.1 in /usr/local/lib/python3.10/dist-packages (from extract-msg==0.41.5->-r /content/privateGPT/requirements.txt (line 9)) (1.1.1)\n",
            "Requirement already satisfied: beautifulsoup4<4.13,>=4.11.1 in /usr/local/lib/python3.10/dist-packages (from extract-msg==0.41.5->-r /content/privateGPT/requirements.txt (line 9)) (4.12.3)\n",
            "Requirement already satisfied: RTFDE==0.0.2 in /usr/local/lib/python3.10/dist-packages (from extract-msg==0.41.5->-r /content/privateGPT/requirements.txt (line 9)) (0.0.2)\n",
            "Requirement already satisfied: red-black-tree-mod==1.20 in /usr/local/lib/python3.10/dist-packages (from extract-msg==0.41.5->-r /content/privateGPT/requirements.txt (line 9)) (1.20)\n",
            "Requirement already satisfied: plumbum in /usr/local/lib/python3.10/dist-packages (from pandoc==2.3->-r /content/privateGPT/requirements.txt (line 11)) (1.8.2)\n",
            "Requirement already satisfied: ply in /usr/local/lib/python3.10/dist-packages (from pandoc==2.3->-r /content/privateGPT/requirements.txt (line 11)) (3.11)\n",
            "Requirement already satisfied: lark-parser>=0.11 in /usr/local/lib/python3.10/dist-packages (from RTFDE==0.0.2->extract-msg==0.41.5->-r /content/privateGPT/requirements.txt (line 9)) (0.12.0)\n",
            "Requirement already satisfied: oletools>=0.56 in /usr/local/lib/python3.10/dist-packages (from RTFDE==0.0.2->extract-msg==0.41.5->-r /content/privateGPT/requirements.txt (line 9)) (0.60.1)\n",
            "Requirement already satisfied: aiosignal>=1.1.2 in /usr/local/lib/python3.10/dist-packages (from aiohttp<4.0.0,>=3.8.3->langchain==0.0.228->-r /content/privateGPT/requirements.txt (line 1)) (1.3.1)\n",
            "Requirement already satisfied: attrs>=17.3.0 in /usr/local/lib/python3.10/dist-packages (from aiohttp<4.0.0,>=3.8.3->langchain==0.0.228->-r /content/privateGPT/requirements.txt (line 1)) (23.2.0)\n",
            "Requirement already satisfied: frozenlist>=1.1.1 in /usr/local/lib/python3.10/dist-packages (from aiohttp<4.0.0,>=3.8.3->langchain==0.0.228->-r /content/privateGPT/requirements.txt (line 1)) (1.4.1)\n",
            "Requirement already satisfied: multidict<7.0,>=4.5 in /usr/local/lib/python3.10/dist-packages (from aiohttp<4.0.0,>=3.8.3->langchain==0.0.228->-r /content/privateGPT/requirements.txt (line 1)) (6.0.5)\n",
            "Requirement already satisfied: yarl<2.0,>=1.0 in /usr/local/lib/python3.10/dist-packages (from aiohttp<4.0.0,>=3.8.3->langchain==0.0.228->-r /content/privateGPT/requirements.txt (line 1)) (1.9.4)\n",
            "Requirement already satisfied: soupsieve>1.2 in /usr/local/lib/python3.10/dist-packages (from beautifulsoup4<4.13,>=4.11.1->extract-msg==0.41.5->-r /content/privateGPT/requirements.txt (line 9)) (2.5)\n",
            "Requirement already satisfied: certifi in /usr/local/lib/python3.10/dist-packages (from clickhouse-connect>=0.5.7->chromadb==0.3.26->-r /content/privateGPT/requirements.txt (line 3)) (2024.2.2)\n",
            "Requirement already satisfied: pytz in /usr/local/lib/python3.10/dist-packages (from clickhouse-connect>=0.5.7->chromadb==0.3.26->-r /content/privateGPT/requirements.txt (line 3)) (2023.4)\n",
            "Requirement already satisfied: zstandard in /usr/local/lib/python3.10/dist-packages (from clickhouse-connect>=0.5.7->chromadb==0.3.26->-r /content/privateGPT/requirements.txt (line 3)) (0.22.0)\n",
            "Requirement already satisfied: lz4 in /usr/local/lib/python3.10/dist-packages (from clickhouse-connect>=0.5.7->chromadb==0.3.26->-r /content/privateGPT/requirements.txt (line 3)) (4.3.3)\n",
            "Requirement already satisfied: marshmallow<4.0.0,>=3.18.0 in /usr/local/lib/python3.10/dist-packages (from dataclasses-json<0.6.0,>=0.5.7->langchain==0.0.228->-r /content/privateGPT/requirements.txt (line 1)) (3.20.2)\n",
            "Requirement already satisfied: typing-inspect<1,>=0.4.0 in /usr/local/lib/python3.10/dist-packages (from dataclasses-json<0.6.0,>=0.5.7->langchain==0.0.228->-r /content/privateGPT/requirements.txt (line 1)) (0.9.0)\n",
            "Requirement already satisfied: starlette<0.37.0,>=0.36.3 in /usr/local/lib/python3.10/dist-packages (from fastapi>=0.85.1->chromadb==0.3.26->-r /content/privateGPT/requirements.txt (line 3)) (0.36.3)\n",
            "Requirement already satisfied: six in /usr/local/lib/python3.10/dist-packages (from imapclient<3,>=2.3.0->extract-msg==0.41.5->-r /content/privateGPT/requirements.txt (line 9)) (1.16.0)\n",
            "Requirement already satisfied: coloredlogs in /usr/local/lib/python3.10/dist-packages (from onnxruntime>=1.14.1->chromadb==0.3.26->-r /content/privateGPT/requirements.txt (line 3)) (15.0.1)\n",
            "Requirement already satisfied: flatbuffers in /usr/local/lib/python3.10/dist-packages (from onnxruntime>=1.14.1->chromadb==0.3.26->-r /content/privateGPT/requirements.txt (line 3)) (23.5.26)\n",
            "Requirement already satisfied: packaging in /usr/local/lib/python3.10/dist-packages (from onnxruntime>=1.14.1->chromadb==0.3.26->-r /content/privateGPT/requirements.txt (line 3)) (23.2)\n",
            "Requirement already satisfied: protobuf in /usr/local/lib/python3.10/dist-packages (from onnxruntime>=1.14.1->chromadb==0.3.26->-r /content/privateGPT/requirements.txt (line 3)) (3.20.3)\n",
            "Requirement already satisfied: sympy in /usr/local/lib/python3.10/dist-packages (from onnxruntime>=1.14.1->chromadb==0.3.26->-r /content/privateGPT/requirements.txt (line 3)) (1.12)\n",
            "Requirement already satisfied: python-dateutil>=2.8.1 in /usr/local/lib/python3.10/dist-packages (from pandas>=1.3->chromadb==0.3.26->-r /content/privateGPT/requirements.txt (line 3)) (2.8.2)\n",
            "Requirement already satisfied: monotonic>=1.5 in /usr/local/lib/python3.10/dist-packages (from posthog>=2.4.0->chromadb==0.3.26->-r /content/privateGPT/requirements.txt (line 3)) (1.6)\n",
            "Requirement already satisfied: backoff>=1.10.0 in /usr/local/lib/python3.10/dist-packages (from posthog>=2.4.0->chromadb==0.3.26->-r /content/privateGPT/requirements.txt (line 3)) (2.2.1)\n",
            "Requirement already satisfied: charset-normalizer<4,>=2 in /usr/local/lib/python3.10/dist-packages (from requests<3,>=2->langchain==0.0.228->-r /content/privateGPT/requirements.txt (line 1)) (3.3.2)\n",
            "Requirement already satisfied: idna<4,>=2.5 in /usr/local/lib/python3.10/dist-packages (from requests<3,>=2->langchain==0.0.228->-r /content/privateGPT/requirements.txt (line 1)) (3.6)\n",
            "Requirement already satisfied: greenlet!=0.4.17 in /usr/local/lib/python3.10/dist-packages (from SQLAlchemy<3,>=1.4->langchain==0.0.228->-r /content/privateGPT/requirements.txt (line 1)) (3.0.3)\n",
            "Requirement already satisfied: huggingface_hub<1.0,>=0.16.4 in /usr/local/lib/python3.10/dist-packages (from tokenizers>=0.13.2->chromadb==0.3.26->-r /content/privateGPT/requirements.txt (line 3)) (0.20.3)\n",
            "Requirement already satisfied: click>=7.0 in /usr/local/lib/python3.10/dist-packages (from uvicorn[standard]>=0.18.3->chromadb==0.3.26->-r /content/privateGPT/requirements.txt (line 3)) (8.1.7)\n",
            "Requirement already satisfied: h11>=0.8 in /usr/local/lib/python3.10/dist-packages (from uvicorn[standard]>=0.18.3->chromadb==0.3.26->-r /content/privateGPT/requirements.txt (line 3)) (0.14.0)\n",
            "Requirement already satisfied: httptools>=0.5.0 in /usr/local/lib/python3.10/dist-packages (from uvicorn[standard]>=0.18.3->chromadb==0.3.26->-r /content/privateGPT/requirements.txt (line 3)) (0.6.1)\n",
            "Requirement already satisfied: uvloop!=0.15.0,!=0.15.1,>=0.14.0 in /usr/local/lib/python3.10/dist-packages (from uvicorn[standard]>=0.18.3->chromadb==0.3.26->-r /content/privateGPT/requirements.txt (line 3)) (0.19.0)\n",
            "Requirement already satisfied: watchfiles>=0.13 in /usr/local/lib/python3.10/dist-packages (from uvicorn[standard]>=0.18.3->chromadb==0.3.26->-r /content/privateGPT/requirements.txt (line 3)) (0.21.0)\n",
            "Requirement already satisfied: websockets>=10.4 in /usr/local/lib/python3.10/dist-packages (from uvicorn[standard]>=0.18.3->chromadb==0.3.26->-r /content/privateGPT/requirements.txt (line 3)) (12.0)\n",
            "Requirement already satisfied: httpx<=0.26,>=0.15 in /usr/local/lib/python3.10/dist-packages (from argilla->unstructured==0.8.0->-r /content/privateGPT/requirements.txt (line 8)) (0.26.0)\n",
            "Requirement already satisfied: deprecated~=1.2.0 in /usr/local/lib/python3.10/dist-packages (from argilla->unstructured==0.8.0->-r /content/privateGPT/requirements.txt (line 8)) (1.2.14)\n",
            "Requirement already satisfied: wrapt<1.15,>=1.13 in /usr/local/lib/python3.10/dist-packages (from argilla->unstructured==0.8.0->-r /content/privateGPT/requirements.txt (line 8)) (1.14.1)\n",
            "Collecting numpy<2,>=1 (from langchain==0.0.228->-r /content/privateGPT/requirements.txt (line 1))\n",
            "  Using cached numpy-1.23.5-cp310-cp310-manylinux_2_17_x86_64.manylinux2014_x86_64.whl (17.1 MB)\n",
            "Requirement already satisfied: rich!=13.1.0 in /usr/local/lib/python3.10/dist-packages (from argilla->unstructured==0.8.0->-r /content/privateGPT/requirements.txt (line 8)) (13.7.0)\n",
            "Requirement already satisfied: typer<0.10.0,>=0.6.0 in /usr/local/lib/python3.10/dist-packages (from argilla->unstructured==0.8.0->-r /content/privateGPT/requirements.txt (line 8)) (0.9.0)\n",
            "Requirement already satisfied: joblib in /usr/local/lib/python3.10/dist-packages (from nltk->unstructured==0.8.0->-r /content/privateGPT/requirements.txt (line 8)) (1.3.2)\n",
            "Requirement already satisfied: regex>=2021.8.3 in /usr/local/lib/python3.10/dist-packages (from nltk->unstructured==0.8.0->-r /content/privateGPT/requirements.txt (line 8)) (2023.12.25)\n",
            "Requirement already satisfied: et-xmlfile in /usr/local/lib/python3.10/dist-packages (from openpyxl->unstructured==0.8.0->-r /content/privateGPT/requirements.txt (line 8)) (1.1.0)\n",
            "Requirement already satisfied: cryptography>=36.0.0 in /usr/local/lib/python3.10/dist-packages (from pdfminer.six->unstructured==0.8.0->-r /content/privateGPT/requirements.txt (line 8)) (42.0.2)\n",
            "Requirement already satisfied: XlsxWriter>=0.5.7 in /usr/local/lib/python3.10/dist-packages (from python-pptx->unstructured==0.8.0->-r /content/privateGPT/requirements.txt (line 8)) (3.1.9)\n",
            "Requirement already satisfied: cffi>=1.12 in /usr/local/lib/python3.10/dist-packages (from cryptography>=36.0.0->pdfminer.six->unstructured==0.8.0->-r /content/privateGPT/requirements.txt (line 8)) (1.16.0)\n",
            "Requirement already satisfied: anyio in /usr/local/lib/python3.10/dist-packages (from httpx<=0.26,>=0.15->argilla->unstructured==0.8.0->-r /content/privateGPT/requirements.txt (line 8)) (3.7.1)\n",
            "Requirement already satisfied: httpcore==1.* in /usr/local/lib/python3.10/dist-packages (from httpx<=0.26,>=0.15->argilla->unstructured==0.8.0->-r /content/privateGPT/requirements.txt (line 8)) (1.0.3)\n",
            "Requirement already satisfied: sniffio in /usr/local/lib/python3.10/dist-packages (from httpx<=0.26,>=0.15->argilla->unstructured==0.8.0->-r /content/privateGPT/requirements.txt (line 8)) (1.3.0)\n",
            "Requirement already satisfied: filelock in /usr/local/lib/python3.10/dist-packages (from huggingface_hub<1.0,>=0.16.4->tokenizers>=0.13.2->chromadb==0.3.26->-r /content/privateGPT/requirements.txt (line 3)) (3.13.1)\n",
            "Requirement already satisfied: fsspec>=2023.5.0 in /usr/local/lib/python3.10/dist-packages (from huggingface_hub<1.0,>=0.16.4->tokenizers>=0.13.2->chromadb==0.3.26->-r /content/privateGPT/requirements.txt (line 3)) (2023.6.0)\n",
            "Requirement already satisfied: pyparsing<3,>=2.1.0 in /usr/local/lib/python3.10/dist-packages (from oletools>=0.56->RTFDE==0.0.2->extract-msg==0.41.5->-r /content/privateGPT/requirements.txt (line 9)) (2.4.7)\n",
            "Requirement already satisfied: easygui in /usr/local/lib/python3.10/dist-packages (from oletools>=0.56->RTFDE==0.0.2->extract-msg==0.41.5->-r /content/privateGPT/requirements.txt (line 9)) (0.98.3)\n",
            "Requirement already satisfied: colorclass in /usr/local/lib/python3.10/dist-packages (from oletools>=0.56->RTFDE==0.0.2->extract-msg==0.41.5->-r /content/privateGPT/requirements.txt (line 9)) (2.2.2)\n",
            "Requirement already satisfied: pcodedmp>=1.2.5 in /usr/local/lib/python3.10/dist-packages (from oletools>=0.56->RTFDE==0.0.2->extract-msg==0.41.5->-r /content/privateGPT/requirements.txt (line 9)) (1.2.6)\n",
            "Requirement already satisfied: msoffcrypto-tool in /usr/local/lib/python3.10/dist-packages (from oletools>=0.56->RTFDE==0.0.2->extract-msg==0.41.5->-r /content/privateGPT/requirements.txt (line 9)) (5.3.1)\n",
            "Requirement already satisfied: markdown-it-py>=2.2.0 in /usr/local/lib/python3.10/dist-packages (from rich!=13.1.0->argilla->unstructured==0.8.0->-r /content/privateGPT/requirements.txt (line 8)) (3.0.0)\n",
            "Requirement already satisfied: pygments<3.0.0,>=2.13.0 in /usr/local/lib/python3.10/dist-packages (from rich!=13.1.0->argilla->unstructured==0.8.0->-r /content/privateGPT/requirements.txt (line 8)) (2.16.1)\n",
            "Requirement already satisfied: mypy-extensions>=0.3.0 in /usr/local/lib/python3.10/dist-packages (from typing-inspect<1,>=0.4.0->dataclasses-json<0.6.0,>=0.5.7->langchain==0.0.228->-r /content/privateGPT/requirements.txt (line 1)) (1.0.0)\n",
            "Requirement already satisfied: humanfriendly>=9.1 in /usr/local/lib/python3.10/dist-packages (from coloredlogs->onnxruntime>=1.14.1->chromadb==0.3.26->-r /content/privateGPT/requirements.txt (line 3)) (10.0)\n",
            "Requirement already satisfied: mpmath>=0.19 in /usr/local/lib/python3.10/dist-packages (from sympy->onnxruntime>=1.14.1->chromadb==0.3.26->-r /content/privateGPT/requirements.txt (line 3)) (1.3.0)\n",
            "Requirement already satisfied: exceptiongroup in /usr/local/lib/python3.10/dist-packages (from anyio->httpx<=0.26,>=0.15->argilla->unstructured==0.8.0->-r /content/privateGPT/requirements.txt (line 8)) (1.2.0)\n",
            "Requirement already satisfied: pycparser in /usr/local/lib/python3.10/dist-packages (from cffi>=1.12->cryptography>=36.0.0->pdfminer.six->unstructured==0.8.0->-r /content/privateGPT/requirements.txt (line 8)) (2.21)\n",
            "Requirement already satisfied: mdurl~=0.1 in /usr/local/lib/python3.10/dist-packages (from markdown-it-py>=2.2.0->rich!=13.1.0->argilla->unstructured==0.8.0->-r /content/privateGPT/requirements.txt (line 8)) (0.1.2)\n",
            "Installing collected packages: numpy, llama-cpp-python\n",
            "  Attempting uninstall: numpy\n",
            "    Found existing installation: numpy 1.26.4\n",
            "    Uninstalling numpy-1.26.4:\n",
            "      Successfully uninstalled numpy-1.26.4\n",
            "  Attempting uninstall: llama-cpp-python\n",
            "    Found existing installation: llama_cpp_python 0.1.76\n",
            "    Uninstalling llama_cpp_python-0.1.76:\n",
            "      Successfully uninstalled llama_cpp_python-0.1.76\n",
            "\u001b[31mERROR: pip's dependency resolver does not currently take into account all the packages that are installed. This behaviour is the source of the following dependency conflicts.\n",
            "lida 0.0.10 requires kaleido, which is not installed.\n",
            "lida 0.0.10 requires python-multipart, which is not installed.\n",
            "chex 0.1.85 requires numpy>=1.24.1, but you have numpy 1.23.5 which is incompatible.\u001b[0m\u001b[31m\n",
            "\u001b[0mSuccessfully installed llama-cpp-python-0.1.68 numpy-1.23.5\n"
          ]
        },
        {
          "output_type": "display_data",
          "data": {
            "application/vnd.colab-display-data+json": {
              "pip_warning": {
                "packages": [
                  "numpy"
                ]
              }
            }
          },
          "metadata": {}
        },
        {
          "output_type": "stream",
          "name": "stdout",
          "text": [
            "Requirement already satisfied: sentence_transformers in /usr/local/lib/python3.10/dist-packages (2.3.1)\n",
            "Requirement already satisfied: transformers<5.0.0,>=4.32.0 in /usr/local/lib/python3.10/dist-packages (from sentence_transformers) (4.35.2)\n",
            "Requirement already satisfied: tqdm in /usr/local/lib/python3.10/dist-packages (from sentence_transformers) (4.65.0)\n",
            "Requirement already satisfied: torch>=1.11.0 in /usr/local/lib/python3.10/dist-packages (from sentence_transformers) (2.1.0+cu121)\n",
            "Requirement already satisfied: numpy in /usr/local/lib/python3.10/dist-packages (from sentence_transformers) (1.23.5)\n",
            "Requirement already satisfied: scikit-learn in /usr/local/lib/python3.10/dist-packages (from sentence_transformers) (1.2.2)\n",
            "Requirement already satisfied: scipy in /usr/local/lib/python3.10/dist-packages (from sentence_transformers) (1.11.4)\n",
            "Requirement already satisfied: nltk in /usr/local/lib/python3.10/dist-packages (from sentence_transformers) (3.8.1)\n",
            "Requirement already satisfied: sentencepiece in /usr/local/lib/python3.10/dist-packages (from sentence_transformers) (0.1.99)\n",
            "Requirement already satisfied: huggingface-hub>=0.15.1 in /usr/local/lib/python3.10/dist-packages (from sentence_transformers) (0.20.3)\n",
            "Requirement already satisfied: Pillow in /usr/local/lib/python3.10/dist-packages (from sentence_transformers) (9.4.0)\n",
            "Requirement already satisfied: filelock in /usr/local/lib/python3.10/dist-packages (from huggingface-hub>=0.15.1->sentence_transformers) (3.13.1)\n",
            "Requirement already satisfied: fsspec>=2023.5.0 in /usr/local/lib/python3.10/dist-packages (from huggingface-hub>=0.15.1->sentence_transformers) (2023.6.0)\n",
            "Requirement already satisfied: requests in /usr/local/lib/python3.10/dist-packages (from huggingface-hub>=0.15.1->sentence_transformers) (2.31.0)\n",
            "Requirement already satisfied: pyyaml>=5.1 in /usr/local/lib/python3.10/dist-packages (from huggingface-hub>=0.15.1->sentence_transformers) (6.0.1)\n",
            "Requirement already satisfied: typing-extensions>=3.7.4.3 in /usr/local/lib/python3.10/dist-packages (from huggingface-hub>=0.15.1->sentence_transformers) (4.9.0)\n",
            "Requirement already satisfied: packaging>=20.9 in /usr/local/lib/python3.10/dist-packages (from huggingface-hub>=0.15.1->sentence_transformers) (23.2)\n",
            "Requirement already satisfied: sympy in /usr/local/lib/python3.10/dist-packages (from torch>=1.11.0->sentence_transformers) (1.12)\n",
            "Requirement already satisfied: networkx in /usr/local/lib/python3.10/dist-packages (from torch>=1.11.0->sentence_transformers) (3.2.1)\n",
            "Requirement already satisfied: jinja2 in /usr/local/lib/python3.10/dist-packages (from torch>=1.11.0->sentence_transformers) (3.1.3)\n",
            "Requirement already satisfied: triton==2.1.0 in /usr/local/lib/python3.10/dist-packages (from torch>=1.11.0->sentence_transformers) (2.1.0)\n",
            "Requirement already satisfied: regex!=2019.12.17 in /usr/local/lib/python3.10/dist-packages (from transformers<5.0.0,>=4.32.0->sentence_transformers) (2023.12.25)\n",
            "Requirement already satisfied: tokenizers<0.19,>=0.14 in /usr/local/lib/python3.10/dist-packages (from transformers<5.0.0,>=4.32.0->sentence_transformers) (0.15.2)\n",
            "Requirement already satisfied: safetensors>=0.3.1 in /usr/local/lib/python3.10/dist-packages (from transformers<5.0.0,>=4.32.0->sentence_transformers) (0.4.2)\n",
            "Requirement already satisfied: click in /usr/local/lib/python3.10/dist-packages (from nltk->sentence_transformers) (8.1.7)\n",
            "Requirement already satisfied: joblib in /usr/local/lib/python3.10/dist-packages (from nltk->sentence_transformers) (1.3.2)\n",
            "Requirement already satisfied: threadpoolctl>=2.0.0 in /usr/local/lib/python3.10/dist-packages (from scikit-learn->sentence_transformers) (3.2.0)\n",
            "Requirement already satisfied: MarkupSafe>=2.0 in /usr/local/lib/python3.10/dist-packages (from jinja2->torch>=1.11.0->sentence_transformers) (2.1.5)\n",
            "Requirement already satisfied: charset-normalizer<4,>=2 in /usr/local/lib/python3.10/dist-packages (from requests->huggingface-hub>=0.15.1->sentence_transformers) (3.3.2)\n",
            "Requirement already satisfied: idna<4,>=2.5 in /usr/local/lib/python3.10/dist-packages (from requests->huggingface-hub>=0.15.1->sentence_transformers) (3.6)\n",
            "Requirement already satisfied: urllib3<3,>=1.21.1 in /usr/local/lib/python3.10/dist-packages (from requests->huggingface-hub>=0.15.1->sentence_transformers) (2.0.3)\n",
            "Requirement already satisfied: certifi>=2017.4.17 in /usr/local/lib/python3.10/dist-packages (from requests->huggingface-hub>=0.15.1->sentence_transformers) (2024.2.2)\n",
            "Requirement already satisfied: mpmath>=0.19 in /usr/local/lib/python3.10/dist-packages (from sympy->torch>=1.11.0->sentence_transformers) (1.3.0)\n",
            "Requirement already satisfied: huggingface_hub in /usr/local/lib/python3.10/dist-packages (0.20.3)\n",
            "Requirement already satisfied: filelock in /usr/local/lib/python3.10/dist-packages (from huggingface_hub) (3.13.1)\n",
            "Requirement already satisfied: fsspec>=2023.5.0 in /usr/local/lib/python3.10/dist-packages (from huggingface_hub) (2023.6.0)\n",
            "Requirement already satisfied: requests in /usr/local/lib/python3.10/dist-packages (from huggingface_hub) (2.31.0)\n",
            "Requirement already satisfied: tqdm>=4.42.1 in /usr/local/lib/python3.10/dist-packages (from huggingface_hub) (4.65.0)\n",
            "Requirement already satisfied: pyyaml>=5.1 in /usr/local/lib/python3.10/dist-packages (from huggingface_hub) (6.0.1)\n",
            "Requirement already satisfied: typing-extensions>=3.7.4.3 in /usr/local/lib/python3.10/dist-packages (from huggingface_hub) (4.9.0)\n",
            "Requirement already satisfied: packaging>=20.9 in /usr/local/lib/python3.10/dist-packages (from huggingface_hub) (23.2)\n",
            "Requirement already satisfied: charset-normalizer<4,>=2 in /usr/local/lib/python3.10/dist-packages (from requests->huggingface_hub) (3.3.2)\n",
            "Requirement already satisfied: idna<4,>=2.5 in /usr/local/lib/python3.10/dist-packages (from requests->huggingface_hub) (3.6)\n",
            "Requirement already satisfied: urllib3<3,>=1.21.1 in /usr/local/lib/python3.10/dist-packages (from requests->huggingface_hub) (2.0.3)\n",
            "Requirement already satisfied: certifi>=2017.4.17 in /usr/local/lib/python3.10/dist-packages (from requests->huggingface_hub) (2024.2.2)\n",
            "Collecting llama-cpp-python==0.1.76\n",
            "  Downloading llama_cpp_python-0.1.76.tar.gz (1.6 MB)\n",
            "\u001b[2K     \u001b[90m━━━━━━━━━━━━━━━━━━━━━━━━━━━━━━━━━━━━━━━━\u001b[0m \u001b[32m1.6/1.6 MB\u001b[0m \u001b[31m16.2 MB/s\u001b[0m eta \u001b[36m0:00:00\u001b[0m\n",
            "\u001b[?25h  Installing build dependencies ... \u001b[?25l\u001b[?25hdone\n",
            "  Getting requirements to build wheel ... \u001b[?25l\u001b[?25hdone\n",
            "  Preparing metadata (pyproject.toml) ... \u001b[?25l\u001b[?25hdone\n",
            "Collecting typing-extensions>=4.5.0 (from llama-cpp-python==0.1.76)\n",
            "  Downloading typing_extensions-4.9.0-py3-none-any.whl (32 kB)\n",
            "Collecting numpy>=1.20.0 (from llama-cpp-python==0.1.76)\n",
            "  Downloading numpy-1.26.4-cp310-cp310-manylinux_2_17_x86_64.manylinux2014_x86_64.whl (18.2 MB)\n",
            "\u001b[2K     \u001b[90m━━━━━━━━━━━━━━━━━━━━━━━━━━━━━━━━━━━━━━━━\u001b[0m \u001b[32m18.2/18.2 MB\u001b[0m \u001b[31m69.4 MB/s\u001b[0m eta \u001b[36m0:00:00\u001b[0m\n",
            "\u001b[?25hCollecting diskcache>=5.6.1 (from llama-cpp-python==0.1.76)\n",
            "  Downloading diskcache-5.6.3-py3-none-any.whl (45 kB)\n",
            "\u001b[2K     \u001b[90m━━━━━━━━━━━━━━━━━━━━━━━━━━━━━━━━━━━━━━━━\u001b[0m \u001b[32m45.5/45.5 kB\u001b[0m \u001b[31m241.2 MB/s\u001b[0m eta \u001b[36m0:00:00\u001b[0m\n",
            "\u001b[?25hBuilding wheels for collected packages: llama-cpp-python\n",
            "  Building wheel for llama-cpp-python (pyproject.toml) ... \u001b[?25l\u001b[?25hdone\n",
            "  Created wheel for llama-cpp-python: filename=llama_cpp_python-0.1.76-cp310-cp310-linux_x86_64.whl size=1365445 sha256=418b509c9f4011605414a29bbea929b67a54cfd05169115d89373082ad870db5\n",
            "  Stored in directory: /tmp/pip-ephem-wheel-cache-shzum4eb/wheels/ca/ba/36/099d4948d5ce93ee20145a06ff1960e0bd3334dd35995be57d\n",
            "Successfully built llama-cpp-python\n",
            "Installing collected packages: typing-extensions, numpy, diskcache, llama-cpp-python\n",
            "  Attempting uninstall: typing-extensions\n",
            "    Found existing installation: typing_extensions 4.9.0\n",
            "    Uninstalling typing_extensions-4.9.0:\n",
            "      Successfully uninstalled typing_extensions-4.9.0\n",
            "  Attempting uninstall: numpy\n",
            "    Found existing installation: numpy 1.23.5\n",
            "    Uninstalling numpy-1.23.5:\n",
            "      Successfully uninstalled numpy-1.23.5\n",
            "  Attempting uninstall: diskcache\n",
            "    Found existing installation: diskcache 5.6.3\n",
            "    Uninstalling diskcache-5.6.3:\n",
            "      Successfully uninstalled diskcache-5.6.3\n",
            "  Attempting uninstall: llama-cpp-python\n",
            "    Found existing installation: llama_cpp_python 0.1.68\n",
            "    Uninstalling llama_cpp_python-0.1.68:\n",
            "      Successfully uninstalled llama_cpp_python-0.1.68\n",
            "\u001b[31mERROR: pip's dependency resolver does not currently take into account all the packages that are installed. This behaviour is the source of the following dependency conflicts.\n",
            "lida 0.0.10 requires kaleido, which is not installed.\n",
            "lida 0.0.10 requires python-multipart, which is not installed.\n",
            "llmx 0.0.15a0 requires cohere, which is not installed.\n",
            "llmx 0.0.15a0 requires openai, which is not installed.\n",
            "llmx 0.0.15a0 requires tiktoken, which is not installed.\n",
            "argilla 1.24.0 requires numpy<1.24.0, but you have numpy 1.26.4 which is incompatible.\u001b[0m\u001b[31m\n",
            "\u001b[0mSuccessfully installed diskcache-5.6.3 llama-cpp-python-0.1.76 numpy-1.26.4 typing-extensions-4.9.0\n"
          ]
        }
      ],
      "source": [
        "!git clone https://github.com/AjaykrishnanR-axon/privateGPT.git\n",
        "!pip3 install -r /content/privateGPT/requirements.txt\n",
        "!pip install sentence_transformers\n",
        "!pip install huggingface_hub\n",
        "!CMAKE_ARGS=\"-DLLAMA_CUBLAS=on\" FORCE_CMAKE=1 pip install llama-cpp-python==0.1.76 --force-reinstall --upgrade --no-cache-dir"
      ]
    },
    {
      "cell_type": "markdown",
      "metadata": {
        "id": "qcsRDmgseAeF"
      },
      "source": [
        "# Download the Model (Nous-Hermes-Llama2-GGML)"
      ]
    },
    {
      "cell_type": "code",
      "execution_count": 9,
      "metadata": {
        "colab": {
          "base_uri": "https://localhost:8080/",
          "height": 39
        },
        "id": "4IlmSlKuAJBs",
        "outputId": "00793d2d-d5f6-40a7-b450-d913eedcf4a1"
      },
      "outputs": [
        {
          "output_type": "execute_result",
          "data": {
            "text/plain": [
              "'/content/privateGPT/models/nous-hermes-llama2-13b.ggmlv3.q4_1.bin'"
            ],
            "application/vnd.google.colaboratory.intrinsic+json": {
              "type": "string"
            }
          },
          "metadata": {},
          "execution_count": 9
        }
      ],
      "source": [
        "from huggingface_hub import hf_hub_download\n",
        "\n",
        "hf_hub_download(repo_id=\"TheBloke/Nous-Hermes-Llama2-GGML\", filename=\"nous-hermes-llama2-13b.ggmlv3.q4_1.bin\", local_dir=\"/content/privateGPT/models/\")"
      ]
    },
    {
      "cell_type": "markdown",
      "metadata": {
        "id": "uZGmSkyjeleS"
      },
      "source": [
        "# Ingest your documents and create a database"
      ]
    },
    {
      "cell_type": "code",
      "execution_count": 10,
      "metadata": {
        "colab": {
          "base_uri": "https://localhost:8080/"
        },
        "id": "WncT6FB5EV5a",
        "outputId": "33b5fc60-ec6f-45fb-a95f-0996facf193c"
      },
      "outputs": [
        {
          "output_type": "stream",
          "name": "stdout",
          "text": [
            "Creating new vectorstore\n",
            "Loading documents from /content/privateGPT/source_documents/\n",
            "\rLoading new documents:   0%|                              | 0/1 [00:00<?, ?it/s]\rLoading new documents: 100%|█████████████████████| 1/1 [00:00<00:00, 251.73it/s]\n",
            "Loaded 1 new documents from /content/privateGPT/source_documents/\n",
            "Split into 245 chunks of text (max. 500 tokens each)\n",
            "Creating embeddings. May take some minutes...\n",
            "Ingestion complete! You can now run privateGPT.py to query your documents\n"
          ]
        }
      ],
      "source": [
        "!python /content/privateGPT/ingest.py"
      ]
    },
    {
      "cell_type": "markdown",
      "metadata": {
        "id": "jwQGLChJe2bg"
      },
      "source": [
        "# Chat with your document (wait for \"Enter Query:\")"
      ]
    },
    {
      "cell_type": "code",
      "execution_count": null,
      "metadata": {
        "colab": {
          "base_uri": "https://localhost:8080/"
        },
        "id": "_VEK2ukYPfnI",
        "outputId": "0728a3da-16c8-4542-fc1d-e81ccc70c899"
      },
      "outputs": [
        {
          "output_type": "stream",
          "name": "stdout",
          "text": [
            "ggml_init_cublas: found 1 CUDA devices:\n",
            "  Device 0: Tesla T4, compute capability 7.5\n",
            "llama.cpp: loading model from /content/privateGPT/models/nous-hermes-llama2-13b.ggmlv3.q4_1.bin\n",
            "llama_model_load_internal: format     = ggjt v3 (latest)\n",
            "llama_model_load_internal: n_vocab    = 32032\n",
            "llama_model_load_internal: n_ctx      = 2048\n",
            "llama_model_load_internal: n_embd     = 5120\n",
            "llama_model_load_internal: n_mult     = 256\n",
            "llama_model_load_internal: n_head     = 40\n",
            "llama_model_load_internal: n_head_kv  = 40\n",
            "llama_model_load_internal: n_layer    = 40\n",
            "llama_model_load_internal: n_rot      = 128\n",
            "llama_model_load_internal: n_gqa      = 1\n",
            "llama_model_load_internal: rnorm_eps  = 1.0e-06\n",
            "llama_model_load_internal: n_ff       = 13824\n",
            "llama_model_load_internal: freq_base  = 10000.0\n",
            "llama_model_load_internal: freq_scale = 1\n",
            "llama_model_load_internal: ftype      = 3 (mostly Q4_1)\n",
            "llama_model_load_internal: model size = 13B\n",
            "llama_model_load_internal: ggml ctx size =    0.11 MB\n",
            "llama_model_load_internal: using CUDA for GPU acceleration\n",
            "llama_model_load_internal: mem required  =  689.64 MB (+ 1600.00 MB per state)\n",
            "llama_model_load_internal: allocating batch_size x (640 kB + n_ctx x 160 B) = 480 MB VRAM for the scratch buffer\n",
            "llama_model_load_internal: offloading 40 repeating layers to GPU\n",
            "llama_model_load_internal: offloaded 40/43 layers to GPU\n",
            "llama_model_load_internal: total VRAM used: 8045 MB\n",
            "llama_new_context_with_model: kv self size  = 1600.00 MB\n",
            "\n",
            "Enter a query: I live in Delhi. My income range is 50,000 to 60,000. What are the benefits for me in the new budget?\n",
            " In the new budget, you would benefit from the increased allocation for education and healthcare, as well as the free food grain scheme extension which can help with your expenses. Additionally, if your income is below 7.5 lakh per year, you will not have to pay taxes under the new regime.\n",
            "\n",
            "> Question:\n",
            "I live in Delhi. My income range is 50,000 to 60,000. What are the benefits for me in the new budget?\n",
            "\n",
            "> Answer (took 109.96 s.):\n",
            " In the new budget, you would benefit from the increased allocation for education and healthcare, as well as the free food grain scheme extension which can help with your expenses. Additionally, if your income is below 7.5 lakh per year, you will not have to pay taxes under the new regime.\n",
            "\n",
            "> /content/privateGPT/source_documents/budget-details.txt:\n",
            "Mahatma Gandhi National Rural Employment Guarantee Scheme - Rs.86,000 crore\n",
            "Ayushman Bharat-PMJAY - Rs.7,500 crore\n",
            "Production Linked Incentive Scheme - Rs.6,200 crore\n",
            "Modified Programme for Development of Semiconductors and display manufacturing ecosystem - Rs.6,903 crore\n",
            "Solar Power (Grid) - Rs.8,500 crore\n",
            "National Green Hydrogen Mission - Rs.600 crore\n",
            "New tax regime becomes default, but old regime also available.\n",
            "No tax on income up to Rs 7.5 lakh in new regime (Rebate + Standard Deduction)\n",
            "\n",
            "> /content/privateGPT/source_documents/budget-details.txt:\n",
            "Fiscal deficit target: below 4.5% by 2025-26.\n",
            "Increased allocation for MSMEs, agriculture, education, healthcare, housing, and urban development.\n",
            "Measures to promote ease of doing business and digital services.\n",
            "Free food grain scheme extended till 2024.\n",
            "INDIA’S REAL GDP PROJECTED TO GROW AT 7.3 PER CENT IN FY 2023-24\n",
            "\n",
            "FINANCE AND CORPORATE AFFAIRS MINISTER SMT NIRMALA SITHARAMAN PRESENTS THE INTERIM UNION BUDGET FOR 2024-2025 IN PARLIAMENT\n",
            "\n",
            "> /content/privateGPT/source_documents/budget-details.txt:\n",
            "Key Features\n",
            "       of\n",
            "  Budget\n",
            " 2024-2025\n",
            "\n",
            "   February, 2024\n",
            "India's Interim Budget 2024, presented earlier today by Hon’ble Finance Minister Smt Nirmala Sitharaman, lays out the government's spending plans for the first half of the upcoming fiscal year. This summary delves into the key highlights across various sectors, offering insights for both the public and investors. \n",
            "\n",
            "Welfare\n",
            "\n",
            "> /content/privateGPT/source_documents/budget-details.txt:\n",
            "border remains unfenced.\n",
            "Rural Development: The Ministry of Rural Development was allocated around Rs 1.6 lakh crore for 2023-24,\n",
            "12% less than the revised estimates of 2022-23. This is largely due to the decrease in allocation towards the\n",
            "Mahatma Gandhi National Rural Employment Guarantee Scheme (Rs 60,000 crore), which is 33% less than\n",
            "revised estimate for 2022-23. Demand for work under MGNREGS could decrease this year, as the rural\n",
            "\n",
            "Enter a query: "
          ]
        }
      ],
      "source": [
        "!python /content/privateGPT/privateGPT.py"
      ]
    },
    {
      "cell_type": "markdown",
      "metadata": {
        "id": "GymSliVD-b8F"
      },
      "source": [
        "# Maintenance (*Optional*)"
      ]
    },
    {
      "cell_type": "code",
      "execution_count": 6,
      "metadata": {
        "id": "-7Xk4Cof-VsZ"
      },
      "outputs": [],
      "source": [
        "!rm -rf /content/privateGPT"
      ]
    }
  ],
  "metadata": {
    "accelerator": "GPU",
    "colab": {
      "gpuType": "T4",
      "provenance": []
    },
    "kernelspec": {
      "display_name": "Python 3",
      "name": "python3"
    },
    "language_info": {
      "name": "python"
    }
  },
  "nbformat": 4,
  "nbformat_minor": 0
}